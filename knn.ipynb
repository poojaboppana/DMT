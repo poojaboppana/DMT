//KNN
import pandas as pd
df= pd.read_csv('buys_computer.csv')

m= {'youth':1, 'middle age':2, 'senior':3}
df['age']= df['age'].map(m)

n= {'high':1, 'medium':2, 'low':3}
df['income']= df['income'].map(n)

o= {'yes':1,'no':0}
df['student']= df['student'].map(o);

p= {'excellent':1 ,'fair':2}
df['credit rating']= df['credit rating'].map(p)

q={'yes':1,'no':0}
df['buys computer']=df['buys computer'].map(q)
print(df)
from sklearn.model_selection import train_test_split
x= df[['age', 'income', 'student', 'credit rating']]
y=df['buys computer']

x_train,x_test, y_train, y_test= train_test_split(x,y,test_size=0.2)

from sklearn.neighbors import KNeighborsClassifier
model2= KNeighborsClassifier()
model2.fit(x_train,y_train)
y_pred2= model2.predict(x_test)
y_test,y_pred2
from sklearn.metrics import accuracy_score
accuracy_score(y_pred2,y_test)
