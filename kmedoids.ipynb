//KMedoids
import numpy as np
import matplotlib.pyplot as plt
x=np.array([
    [1.0,1.0],
    [1.5,2.0],
    [3.0,4.0],
    [5.0,7.0],
    [3.5, 5.0],
    [4.5,5.0],
    [3.5,4.5]
])
k=2
from sklearn_extra.cluster import KMedoids
kmedoids= KMedoids(n_clusters=k)

kmedoids.fit(x)
medoids=kmedoids.cluster_centers_
labels=kmedoids.labels_
plt.scatter(x[:,0],x[:,1],c=labels,cmap='viridis')
plt.scatter(medoids[:,0],medoids[:,1],c='red',marker='X',s=200,label='medoids')
plt.xlabel('x-coordinate')
plt.ylabel('y-coordinate')
plt.title('K-Medoids Clustering')
plt.legend()
plt.show()
