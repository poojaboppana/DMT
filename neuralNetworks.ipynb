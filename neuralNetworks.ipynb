//Neural Networks
import pandas as pd
df= pd.read_csv('/content/buys_computer.csv')

m= {'youth':1, 'middle age':2, 'senior':3}
df['age']= df['age'].map(m)

n= {'high':1, 'medium':2, 'low':3}
df['income']= df['income'].map(n)

o= {'yes':1,'no':0}
df['student']= df['student'].map(o);

p= {'excellent':1 ,'fair':2}
df['credit rating']= df['credit rating'].map(p)

q={'yes':1,'no':0}
df['buys computer']=df['buys computer'].map(q)
print(df)
from sklearn.model_selection import train_test_split
x= df[['age', 'income', 'student', 'credit rating']]
y=df['buys computer']

x_train,x_test, y_train, y_test= train_test_split(x,y,test_size=0.2)
from tensorflow.keras.models import Sequential
from tensorflow.keras.layers import Dense

model5= Sequential()
model5.add(Dense(units=8, input_dim=4,activation='relu'))
model5.add(Dense(units=4,activation='relu'))
model5.add(Dense(units=1, activation='relu'))
model5.compile(optimizer='sgd', loss='mse', metrics=['accuracy'])

model5.fit(x_train,y_train,epochs=30,batch_size=8)

y_pred5= model5.predict(x_test)

print(y_pred5,y_test)

from sklearn.metrics import accuracy_score
y_pred5binary=(y_pred5>0.5).astype(int)
accuracy_score(y_pred5binary,y_test)
