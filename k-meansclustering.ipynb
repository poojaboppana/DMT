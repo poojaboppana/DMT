//KMeans Clustering
import numpy as np
import matplotlib.pyplot as plt

x=np.array([
    [1.0,1.0],
    [1.5,2.0],
    [3.0,4.0],
    [5.0,7.0],
    [3.5, 5.0],
    [4.5,5.0],
    [3.5,4.5]
])
k=2
from sklearn.cluster import KMeans
kmeans= KMeans(n_clusters=k)
kmeans.fit(x)

centroids= kmeans.cluster_centers_
labels= kmeans.labels_
plt.scatter(x[:,0], x[:,1], c=labels, cmap='viridis')
plt.scatter(centroids[:,0], centroids[:,1],c='green',marker='X', s=200,label='centroids')
plt.xlabel('X-Coordinate')
plt.ylabel('Y-Coordinate')
plt.title('K-Means Clustering')
plt.legend()
plt.show()
