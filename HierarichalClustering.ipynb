//Hierarichal Clustering
import numpy as np
import matplotlib.pyplot as plt
from scipy.cluster.hierarchy import dendrogram,linkage
from sklearn.cluster import AgglomerativeClustering
from sklearn.metrics import silhouette_score
x=np.array([
    [3, 4],  # A
    [2, 3],  # B
    [4, 8],  # C
    [5, 7],  # D
    [6, 9],  # E
    [7, 9]   # F
])
linked= linkage(x,method="single")
dendrogram(linked,labels=['A','B','C','D','E','F'])
plt.title('Dendogram for Single Linkgae')
plt.show()
agg_clust= AgglomerativeClustering(n_clusters=3)
labels=agg_clust.fit_predict(x)

plt.scatter(x[:,0], x[:,1],c=labels,cmap='viridis')
plt.title('Clusters')
plt.show()

sil_score=silhouette_score(x,labels)
print(f"Silhouette Score is {sil_score}")
